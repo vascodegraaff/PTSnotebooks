{
  "nbformat": 4,
  "nbformat_minor": 0,
  "metadata": {
    "@webio": {
      "lastCommId": null,
      "lastKernelId": null
    },
    "anaconda-cloud": {},
    "kernelspec": {
      "display_name": "Python 3",
      "language": "python",
      "name": "python3"
    },
    "language_info": {
      "codemirror_mode": {
        "name": "ipython",
        "version": 3
      },
      "file_extension": ".py",
      "mimetype": "text/x-python",
      "name": "python",
      "nbconvert_exporter": "python",
      "pygments_lexer": "ipython3",
      "version": "3.7.6"
    },
    "colab": {
      "name": "CA1.ipynb",
      "provenance": [],
      "toc_visible": true,
      "include_colab_link": true
    }
  },
  "cells": [
    {
      "cell_type": "markdown",
      "metadata": {
        "id": "view-in-github",
        "colab_type": "text"
      },
      "source": [
        "<a href=\"https://colab.research.google.com/github/vascodegraaff/PTSnotebooks/blob/main/CA1.ipynb\" target=\"_parent\"><img src=\"https://colab.research.google.com/assets/colab-badge.svg\" alt=\"Open In Colab\"/></a>"
      ]
    },
    {
      "cell_type": "markdown",
      "metadata": {
        "id": "3xld1DFjycF2"
      },
      "source": [
        "# Computer assignment 1\n",
        "\n",
        "In this first assignment, you will explore data by generating both numerical and graphical summaries. Next, you will experiment with simulating random objects using the example of throwing a die. \n",
        "\n",
        "\n",
        "* __What__: Making both graphical and numerical summaries of existing data and modelling a basic random experiment.\n",
        "* __Why__: Knowing how to extract basic information from data is an essential skill for all engineers as well as simulating the effect of randomness.\n",
        "* __How__: The first part of this assignment introduces the basic tools for summarizing data. The second part covers a model for throws of a die. Walk through this notebook and check your results with the results that will be shown in class. "
      ]
    },
    {
      "cell_type": "markdown",
      "metadata": {
        "id": "qdIQwoXqycGF"
      },
      "source": [
        "## Exploring the datasets using graphical summeries\n",
        "\n",
        "The data on heights is in the file \"Heights.csv\" on Brightspace. Reading files of the formats excel, SQL or CSV can be done using the library ```pandas```. When you are sure the file is in the same directory as this notebook, you can use ```pd.read_csv``` to load the file into Python. Use the extra argument ```sep=\";\"``` to separate the two columns of the dataset. The resulting object is a dataframe with different columns for each classroom. The command ```Heights.Class_1``` now allows us to access the heights from classroom 1. \n",
        "\n",
        "For the documentation of ```pandas```, see\n",
        "* https://pandas.pydata.org/docs/index.html\n",
        "\n",
        "Complete the next lines of code to load the correct file. "
      ]
    },
    {
      "cell_type": "code",
      "metadata": {
        "collapsed": true,
        "colab": {
          "base_uri": "https://localhost:8080/",
          "height": 419
        },
        "id": "F4nlghHJycGG",
        "outputId": "9daaab3b-acb2-4c5d-c440-56624e91608c"
      },
      "source": [
        "import pandas as pd\n",
        "Heights = 'Heights.csv'\n",
        "\n",
        "# This allows us to see if the data frame was loaded correctly. \n",
        "Heights\n",
        "x = pd.read_csv(Heights, sep=\";\")\n",
        "x"
      ],
      "execution_count": 28,
      "outputs": [
        {
          "output_type": "execute_result",
          "data": {
            "text/html": [
              "<div>\n",
              "<style scoped>\n",
              "    .dataframe tbody tr th:only-of-type {\n",
              "        vertical-align: middle;\n",
              "    }\n",
              "\n",
              "    .dataframe tbody tr th {\n",
              "        vertical-align: top;\n",
              "    }\n",
              "\n",
              "    .dataframe thead th {\n",
              "        text-align: right;\n",
              "    }\n",
              "</style>\n",
              "<table border=\"1\" class=\"dataframe\">\n",
              "  <thead>\n",
              "    <tr style=\"text-align: right;\">\n",
              "      <th></th>\n",
              "      <th>Class_1</th>\n",
              "      <th>Class_2</th>\n",
              "    </tr>\n",
              "  </thead>\n",
              "  <tbody>\n",
              "    <tr>\n",
              "      <th>0</th>\n",
              "      <td>174</td>\n",
              "      <td>193</td>\n",
              "    </tr>\n",
              "    <tr>\n",
              "      <th>1</th>\n",
              "      <td>165</td>\n",
              "      <td>180</td>\n",
              "    </tr>\n",
              "    <tr>\n",
              "      <th>2</th>\n",
              "      <td>184</td>\n",
              "      <td>167</td>\n",
              "    </tr>\n",
              "    <tr>\n",
              "      <th>3</th>\n",
              "      <td>188</td>\n",
              "      <td>194</td>\n",
              "    </tr>\n",
              "    <tr>\n",
              "      <th>4</th>\n",
              "      <td>180</td>\n",
              "      <td>180</td>\n",
              "    </tr>\n",
              "    <tr>\n",
              "      <th>...</th>\n",
              "      <td>...</td>\n",
              "      <td>...</td>\n",
              "    </tr>\n",
              "    <tr>\n",
              "      <th>115</th>\n",
              "      <td>174</td>\n",
              "      <td>178</td>\n",
              "    </tr>\n",
              "    <tr>\n",
              "      <th>116</th>\n",
              "      <td>188</td>\n",
              "      <td>198</td>\n",
              "    </tr>\n",
              "    <tr>\n",
              "      <th>117</th>\n",
              "      <td>181</td>\n",
              "      <td>185</td>\n",
              "    </tr>\n",
              "    <tr>\n",
              "      <th>118</th>\n",
              "      <td>199</td>\n",
              "      <td>172</td>\n",
              "    </tr>\n",
              "    <tr>\n",
              "      <th>119</th>\n",
              "      <td>160</td>\n",
              "      <td>182</td>\n",
              "    </tr>\n",
              "  </tbody>\n",
              "</table>\n",
              "<p>120 rows × 2 columns</p>\n",
              "</div>"
            ],
            "text/plain": [
              "     Class_1  Class_2\n",
              "0        174      193\n",
              "1        165      180\n",
              "2        184      167\n",
              "3        188      194\n",
              "4        180      180\n",
              "..       ...      ...\n",
              "115      174      178\n",
              "116      188      198\n",
              "117      181      185\n",
              "118      199      172\n",
              "119      160      182\n",
              "\n",
              "[120 rows x 2 columns]"
            ]
          },
          "metadata": {
            "tags": []
          },
          "execution_count": 28
        }
      ]
    },
    {
      "cell_type": "markdown",
      "metadata": {
        "id": "FUoi94VhycGG"
      },
      "source": [
        "Let's start with a first visualization of these data. In the library ```matplotlib.pyplot```, there are various tools for making plots. Let's see if we can make a histogram of the heights of classroom 1.\n",
        "\n",
        "For documentation on ```matplotlib.pyplot```, see\n",
        "* https://matplotlib.org/api/_as_gen/matplotlib.pyplot.plot.html\n",
        "* https://matplotlib.org/api/_as_gen/matplotlib.pyplot.hist.html\n",
        "\n",
        "Use ```plt.hist``` to generate a histogram of the heights of the students of classroom 1. You can use a second argument ```bins = n``` to set the amount of bins used to ```n```. Try to find a suitable amount of bins or set ```bins = 'auto'``` to automatically pick the bins based on the size of the data."
      ]
    },
    {
      "cell_type": "code",
      "metadata": {
        "collapsed": true,
        "colab": {
          "base_uri": "https://localhost:8080/",
          "height": 265
        },
        "id": "78N40pizycGH",
        "outputId": "b378916e-13a3-414f-8774-7a93a4f6fc29"
      },
      "source": [
        "import matplotlib.pyplot as plt\n",
        "\n",
        "# INSERT COMMAND FOR HISTOGRAM\n",
        "plt.hist(x, bins='auto')\n",
        "\n",
        "# Generate the plot using\n",
        "plt.show()"
      ],
      "execution_count": 22,
      "outputs": [
        {
          "output_type": "display_data",
          "data": {
            "image/png": "[encoded data removed]",
            "text/plain": [
              "<Figure size 432x288 with 1 Axes>"
            ]
          },
          "metadata": {
            "tags": [],
            "needs_background": "light"
          }
        }
      ]
    },
    {
      "cell_type": "markdown",
      "metadata": {
        "id": "JHGEpIpCycGI"
      },
      "source": [
        "We now wish to generate two histograms of the two classrooms next to each other. Using the command ```subplots``` we can make multiple plots in any desired order. Arguments like ```sharex``` and ```sharey``` allow you to ensure that all figures have the same axes. \n",
        "\n",
        "Commands like ```ax1.set_xlabel```, ```ax1.set_ylabel``` and ```ax1.set_title``` allow you to add attributes to the plots. For each subplot, we want the labels \"Height\" on the $x$-axis and \"Frequency\" on the $y$-axis and we want to use the titles to indicate which histogram refers to which classroom. \n",
        "\n",
        "Complete the next lines of code to generate the desired figure. "
      ]
    },
    {
      "cell_type": "code",
      "metadata": {
        "collapsed": true,
        "colab": {
          "base_uri": "https://localhost:8080/",
          "height": 334
        },
        "id": "FETzUIIAycGI",
        "outputId": "08b513db-f9c2-4ea0-ef01-e3fc95d1e23d"
      },
      "source": [
        "fig, (ax1, ax2) = plt.subplots(1, 2, sharex=True,sharey=True,figsize=(15,5))\n",
        "ax1.hist(x.Class_1)  # INSERT CODE ON _\n",
        "ax1.set_xlabel(\"Height range\")\n",
        "ax1.set_ylabel(\"Frequency\")\n",
        "# ADD ATTRIBUTES FOR FIRST PLOT\n",
        "ax2.hist(x.Class_2) # INSERT CODE ON _\n",
        "ax2.set_xlabel(\"Height range\")\n",
        "ax2.set_ylabel(\"Frequency\")\n",
        "# ADD ATTRIBUTES FOR SECOND PLOT\n",
        "plt.show()"
      ],
      "execution_count": 30,
      "outputs": [
        {
          "output_type": "display_data",
          "data": {
            "image/png": "[encoded data removed]",
            "text/plain": [
              "<Figure size 1080x360 with 2 Axes>"
            ]
          },
          "metadata": {
            "tags": [],
            "needs_background": "light"
          }
        }
      ]
    },
    {
      "cell_type": "markdown",
      "metadata": {
        "id": "9fMxyzF1ycGJ"
      },
      "source": [
        "Besides histograms, statisticians frequently use boxplots of their datasets. The function ```plt.boxplot``` allows us to generate boxplots of multiple datasets next to each other if formatted correctly.\n",
        "\n",
        "For documentation, see \n",
        "* https://matplotlib.org/api/_as_gen/matplotlib.pyplot.boxplot.html\n",
        "\n",
        "Complete the following code to generate two boxplots of classrooms 1 and 2 next to each other.  "
      ]
    },
    {
      "cell_type": "code",
      "metadata": {
        "collapsed": true,
        "colab": {
          "base_uri": "https://localhost:8080/",
          "height": 279
        },
        "id": "mXyNfqaxycGJ",
        "outputId": "401209ce-796e-4f6a-a57e-efa0eac3738b"
      },
      "source": [
        "data_to_plot = [ x.Class_1 , x.Class_2 ] # INSERT CODE ON _\n",
        "\n",
        "# Create a Figure\n",
        "plt.boxplot(data_to_plot)\n",
        "plt.xlabel(\"Classroom\")\n",
        "plt.ylabel(\"Height\")\n",
        "plt.show()"
      ],
      "execution_count": 31,
      "outputs": [
        {
          "output_type": "display_data",
          "data": {
            "image/png": "[encoded data removed]",
            "text/plain": [
              "<Figure size 432x288 with 1 Axes>"
            ]
          },
          "metadata": {
            "tags": [],
            "needs_background": "light"
          }
        }
      ]
    },
    {
      "cell_type": "markdown",
      "metadata": {
        "id": "Ifu0QMxGycGK"
      },
      "source": [
        "#### Remarks on graphical summaries\n",
        "\n",
        "Based on the plots generated by now, we can ask a lot of questions about the data. Answer the following questions and motivate which attributes of which plots lead to your answer. \n",
        "\n",
        "* Is there a significant difference in height between classrooms 1 and 2? Name at least two characteristics that lead to your conclusion. \n",
        "* Are there any unusual values? If yes, can you explain these?"
      ]
    },
    {
      "cell_type": "markdown",
      "metadata": {
        "id": "6yP7_WXnycGK"
      },
      "source": [
        "## Exploring the datasets using numerical summeries\n",
        "\n",
        "Besides graphical summeries, we can also compute various numerical values that give us an idea of what the data look like. Let's find out which class has, on average, the talles students using the function ```np.mean``` from the library ```numpy```. Next to the average, we can also use ```np.min``` and ```np.max``` to find the minimum and maximum in a given dataset. \n",
        "\n",
        "```numpy``` is part of the library ```scipy``` that is used for most scientific operations. ```numpy``` is used for all operations on arrays of data. One can use commands like ```np.sqrt``` or ```np.exp``` to transform an array into a new array that contains the square roots or exponentials of all values in the original array. For documentation, see\n",
        "\n",
        "* https://docs.scipy.org/doc/numpy/user/index.html\n",
        "\n",
        "Complete the following code to find out which class has, on average, the tallest students and to find the height of the tallest student in each class."
      ]
    },
    {
      "cell_type": "code",
      "metadata": {
        "collapsed": true,
        "colab": {
          "base_uri": "https://localhost:8080/"
        },
        "id": "NPauJuJMycGL",
        "outputId": "f2681af4-0a78-429b-80fa-c44b55ec5bcc"
      },
      "source": [
        "import numpy as np\n",
        "\n",
        "print(\"The average height of Class_1 is \", np.mean(x.Class_1) )             # INSERT CODE ON _\n",
        "print(\"The average height of Class_2 is \", np.mean(x.Class_2) )             # INSERT CODE ON _\n",
        "\n",
        "print(\"The tallest student of Class_1 has height \", np.max(x.Class_1) )    # INSERT CODE ON _\n",
        "print(\"The tallest student of Class_2 has height \", np.max(x.Class_2) )    # INSERT CODE ON _"
      ],
      "execution_count": 33,
      "outputs": [
        {
          "output_type": "stream",
          "text": [
            "The average height of Class_1 is  181.95833333333334\n",
            "The average height of Class_2 is  182.11666666666667\n",
            "The tallest student of Class_1 has height  201\n",
            "The tallest student of Class_2 has height  203\n"
          ],
          "name": "stdout"
        }
      ]
    },
    {
      "cell_type": "markdown",
      "metadata": {
        "id": "ca3i1SFHycGL"
      },
      "source": [
        "## Throwing a die\n",
        "\n",
        "In this next part, we will look at what happens when we throw a die many times. The results of one throw are in the set $\\{1, 2, 3, 4, 5, 6\\}$ and, if the die is fair, all results have an equal probability of landing, namely $\\frac{1}{6}$. To get the outcome of a throw, we use the ```np.random.choice``` function from the library ```numpy```. \n",
        "\n",
        "Complete the following code to generate one throw."
      ]
    },
    {
      "cell_type": "code",
      "metadata": {
        "collapsed": true,
        "colab": {
          "base_uri": "https://localhost:8080/"
        },
        "id": "_leL49i5ycGN",
        "outputId": "a7cc2f2c-86ce-45d7-8c2a-745c6080ab2e"
      },
      "source": [
        "import numpy as np\n",
        "# Put all the possible outcomes in a vector\n",
        "die = [ 1 , 2 , 3 , 4 , 5 , 6 ]                          # INSERT CODE ON _\n",
        "\n",
        "# Assign a probability to each single outcome\n",
        "probabilities = [ 1/6 , 1/6 , 1/6 , 1/6 , 1/6 , 1/6 ]                # INSERT CODE ON _\n",
        "\n",
        "outcome = np.random.choice(die, size = 1, p = probabilities)\n",
        "\n",
        "print(\"Outcome of the throw: \" , outcome[0])"
      ],
      "execution_count": 17,
      "outputs": [
        {
          "output_type": "stream",
          "text": [
            "Outcome of the throw:  3\n"
          ],
          "name": "stdout"
        }
      ]
    },
    {
      "cell_type": "markdown",
      "metadata": {
        "id": "KyaFIkUcycGN"
      },
      "source": [
        "Now let us see how much we throw on average when we throw 10, 100 or 1000 times using the function ```np.mean``` from the library ```numpy```. What happens when you run this block multiple times? What happens when the size gets even larger than 1000? "
      ]
    },
    {
      "cell_type": "code",
      "metadata": {
        "collapsed": true,
        "colab": {
          "base_uri": "https://localhost:8080/"
        },
        "id": "LJsO-oerycGO",
        "outputId": "da50cd64-bb40-493a-b586-f39850d15aae"
      },
      "source": [
        "outcomes10 = np.random.choice(die, size = 10, p = probabilities)     # INSERT CODE ON _\n",
        "outcomes100 = np.random.choice(die, size = 100, p = probabilities)    # INSERT CODE ON _\n",
        "outcomes1000 = np.random.choice(die, size = 1000, p = probabilities)   # INSERT CODE ON _\n",
        "\n",
        "print(\"Average outcome after 10 throws: \", np.mean(outcomes10) )    # INSERT CODE ON _\n",
        "print(\"Average outcome after 100 throws: \", np.mean(outcomes100) )   # INSERT CODE ON _\n",
        "print(\"Average outcome after 1000 throws: \", np.mean(outcomes1000) )  # INSERT CODE ON _"
      ],
      "execution_count": 19,
      "outputs": [
        {
          "output_type": "stream",
          "text": [
            "Average outcome after 10 throws:  2.9\n",
            "Average outcome after 100 throws:  3.73\n",
            "Average outcome after 1000 throws:  3.512\n"
          ],
          "name": "stdout"
        }
      ]
    },
    {
      "cell_type": "markdown",
      "metadata": {
        "id": "rTKfzUlcycGP"
      },
      "source": [
        "To find out how the average behaves, let us plot the average as a function of the sample size. What happens to this plot if you run this block multiple times? "
      ]
    },
    {
      "cell_type": "code",
      "metadata": {
        "collapsed": true,
        "colab": {
          "base_uri": "https://localhost:8080/",
          "height": 279
        },
        "id": "Fv1OKeOLycGQ",
        "outputId": "d4cf959d-3a29-416e-a04c-bc32e5d36441"
      },
      "source": [
        "outcomes = np.random.choice(die, size = 1000, p = probabilities)\n",
        "averages = [ np.mean(outcomes[range(0,i)]) for i in range(1,1001) ]\n",
        "\n",
        "plt.plot(averages)\n",
        "plt.xlabel(\"n\")\n",
        "plt.ylabel(\"Average after n throws\")\n",
        "plt.show()"
      ],
      "execution_count": 20,
      "outputs": [
        {
          "output_type": "display_data",
          "data": {
            "image/png": "[encoded data removed]",
            "text/plain": [
              "<Figure size 432x288 with 1 Axes>"
            ]
          },
          "metadata": {
            "tags": [],
            "needs_background": "light"
          }
        }
      ]
    },
    {
      "cell_type": "markdown",
      "metadata": {
        "id": "l7Anw626ycGQ"
      },
      "source": [
        "It seems like we will, on average, throw $\\frac{7}{2}$. We can expect this number when we throw many times, regardless of the outcomes of individual throws. This behaviour is a consequence of the so-called _Law of Large Numbers_. In week 4.4. we will discuss this law in much more detail. Next week, we will study the meaning of the value $\\frac{7}{2}$.  "
      ]
    }
  ]
}